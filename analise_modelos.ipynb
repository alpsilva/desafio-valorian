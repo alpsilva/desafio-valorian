{
 "cells": [
  {
   "attachments": {},
   "cell_type": "markdown",
   "metadata": {},
   "source": [
    "# Análise e considerações iniciais do dataset\n",
    "\n",
    "Nessa etapa, os dados são carregados e uma série de observações é feita sobre eles, incluindo se possui valores nulos e outliers.\n",
    "\n",
    "Dicionários dos atributos:\n",
    "- Indivíduo: Pessoal que executou a atividade.\n",
    "- Atividade: Atividades do dia a dia realizada por humanos.\n",
    "- Timestamp: Device uptime em nanosegundos.\n",
    "- Aceleração no eixo X: Valor da aceleração no eixo X, sendo 10 = 1g = 9.81 m/s^2 e 0 sem aceleração.\n",
    "- Aceleração no eixo Y: Mesmo que X para eixo Y.\n",
    "- Aceleração no eixo Z: Mesmo que X para eixo Z."
   ]
  },
  {
   "cell_type": "code",
   "execution_count": 2,
   "metadata": {},
   "outputs": [
    {
     "name": "stderr",
     "output_type": "stream",
     "text": [
      "/home/alps2/.local/lib/python3.10/site-packages/IPython/core/interactiveshell.py:3398: DtypeWarning: Columns (0) have mixed types.Specify dtype option on import or set low_memory=False.\n",
      "  exec(code_obj, self.user_global_ns, self.user_ns)\n"
     ]
    },
    {
     "data": {
      "text/html": [
       "<div>\n",
       "<style scoped>\n",
       "    .dataframe tbody tr th:only-of-type {\n",
       "        vertical-align: middle;\n",
       "    }\n",
       "\n",
       "    .dataframe tbody tr th {\n",
       "        vertical-align: top;\n",
       "    }\n",
       "\n",
       "    .dataframe thead th {\n",
       "        text-align: right;\n",
       "    }\n",
       "</style>\n",
       "<table border=\"1\" class=\"dataframe\">\n",
       "  <thead>\n",
       "    <tr style=\"text-align: right;\">\n",
       "      <th></th>\n",
       "      <th>individuo</th>\n",
       "      <th>atividade</th>\n",
       "      <th>timestamp</th>\n",
       "      <th>x</th>\n",
       "      <th>y</th>\n",
       "      <th>z</th>\n",
       "    </tr>\n",
       "  </thead>\n",
       "  <tbody>\n",
       "    <tr>\n",
       "      <th>0</th>\n",
       "      <td>33</td>\n",
       "      <td>Jogging</td>\n",
       "      <td>4.910596e+13</td>\n",
       "      <td>-0.694638</td>\n",
       "      <td>12.680544</td>\n",
       "      <td>0.503953</td>\n",
       "    </tr>\n",
       "    <tr>\n",
       "      <th>1</th>\n",
       "      <td>33</td>\n",
       "      <td>Jogging</td>\n",
       "      <td>4.910606e+13</td>\n",
       "      <td>5.012288</td>\n",
       "      <td>11.264028</td>\n",
       "      <td>0.953424</td>\n",
       "    </tr>\n",
       "    <tr>\n",
       "      <th>2</th>\n",
       "      <td>33</td>\n",
       "      <td>Jogging</td>\n",
       "      <td>4.910611e+13</td>\n",
       "      <td>4.903325</td>\n",
       "      <td>10.882658</td>\n",
       "      <td>-0.081722</td>\n",
       "    </tr>\n",
       "    <tr>\n",
       "      <th>3</th>\n",
       "      <td>33</td>\n",
       "      <td>Jogging</td>\n",
       "      <td>4.910622e+13</td>\n",
       "      <td>-0.612916</td>\n",
       "      <td>18.496431</td>\n",
       "      <td>3.023717</td>\n",
       "    </tr>\n",
       "    <tr>\n",
       "      <th>4</th>\n",
       "      <td>33</td>\n",
       "      <td>Jogging</td>\n",
       "      <td>4.910633e+13</td>\n",
       "      <td>-1.184970</td>\n",
       "      <td>12.108489</td>\n",
       "      <td>7.205164</td>\n",
       "    </tr>\n",
       "  </tbody>\n",
       "</table>\n",
       "</div>"
      ],
      "text/plain": [
       "  individuo atividade     timestamp         x          y         z\n",
       "0        33   Jogging  4.910596e+13 -0.694638  12.680544  0.503953\n",
       "1        33   Jogging  4.910606e+13  5.012288  11.264028  0.953424\n",
       "2        33   Jogging  4.910611e+13  4.903325  10.882658 -0.081722\n",
       "3        33   Jogging  4.910622e+13 -0.612916  18.496431  3.023717\n",
       "4        33   Jogging  4.910633e+13 -1.184970  12.108489  7.205164"
      ]
     },
     "execution_count": 2,
     "metadata": {},
     "output_type": "execute_result"
    }
   ],
   "source": [
    "import pandas\n",
    "\n",
    "dataset_file_path = \"./dataset/coleta.txt\"\n",
    "\n",
    "columns = [\"individuo\", \"atividade\", \"timestamp\", \"x\", \"y\", \"z\"]\n",
    "\n",
    "df = pandas.read_csv(\n",
    "    dataset_file_path,\n",
    "    sep=\",\",\n",
    "    names=columns,\n",
    "    lineterminator=';'\n",
    ")\n",
    "\n",
    "df.head()"
   ]
  },
  {
   "cell_type": "code",
   "execution_count": 3,
   "metadata": {},
   "outputs": [
    {
     "data": {
      "text/plain": [
       "individuo     object\n",
       "atividade     object\n",
       "timestamp    float64\n",
       "x            float64\n",
       "y            float64\n",
       "z            float64\n",
       "dtype: object"
      ]
     },
     "execution_count": 3,
     "metadata": {},
     "output_type": "execute_result"
    }
   ],
   "source": [
    "df.dtypes"
   ]
  },
  {
   "attachments": {},
   "cell_type": "markdown",
   "metadata": {},
   "source": [
    "- \"individuo\" foi marcado como object, mas poderia muito bem ser um int (mesmo que nenhuma operação aritmética seja feita em cima desse valor). Representa apenas de qual indivíduo foi feita a coleta. Possivelmente será pouco útil para o modelo.\n",
    "- \"atividade\" foi marcado como object e representa a classe ou \"label\" do problema.\n",
    "- \"timestamp\" poderia ser um int, mas não faz mal deixá-lo como float. Possivelmente não vai ser útil para o modelo, mas será útil para a criação do dataset com janela de tempo de 3 segundos e overlap de 75%, como foi requerido.\n",
    "- \"x\", \"y\" e \"z\" foram corretamente tipados como float."
   ]
  },
  {
   "cell_type": "code",
   "execution_count": 4,
   "metadata": {},
   "outputs": [
    {
     "data": {
      "text/html": [
       "<div>\n",
       "<style scoped>\n",
       "    .dataframe tbody tr th:only-of-type {\n",
       "        vertical-align: middle;\n",
       "    }\n",
       "\n",
       "    .dataframe tbody tr th {\n",
       "        vertical-align: top;\n",
       "    }\n",
       "\n",
       "    .dataframe thead th {\n",
       "        text-align: right;\n",
       "    }\n",
       "</style>\n",
       "<table border=\"1\" class=\"dataframe\">\n",
       "  <thead>\n",
       "    <tr style=\"text-align: right;\">\n",
       "      <th></th>\n",
       "      <th>timestamp</th>\n",
       "      <th>x</th>\n",
       "      <th>y</th>\n",
       "      <th>z</th>\n",
       "    </tr>\n",
       "  </thead>\n",
       "  <tbody>\n",
       "    <tr>\n",
       "      <th>count</th>\n",
       "      <td>1.098208e+06</td>\n",
       "      <td>1.098208e+06</td>\n",
       "      <td>1.098208e+06</td>\n",
       "      <td>1.098208e+06</td>\n",
       "    </tr>\n",
       "    <tr>\n",
       "      <th>mean</th>\n",
       "      <td>3.340895e+13</td>\n",
       "      <td>6.628650e-01</td>\n",
       "      <td>7.255622e+00</td>\n",
       "      <td>4.110796e-01</td>\n",
       "    </tr>\n",
       "    <tr>\n",
       "      <th>std</th>\n",
       "      <td>4.944962e+13</td>\n",
       "      <td>6.849046e+00</td>\n",
       "      <td>6.746217e+00</td>\n",
       "      <td>4.754122e+00</td>\n",
       "    </tr>\n",
       "    <tr>\n",
       "      <th>min</th>\n",
       "      <td>0.000000e+00</td>\n",
       "      <td>-1.961000e+01</td>\n",
       "      <td>-1.961000e+01</td>\n",
       "      <td>-1.980000e+01</td>\n",
       "    </tr>\n",
       "    <tr>\n",
       "      <th>25%</th>\n",
       "      <td>2.019110e+12</td>\n",
       "      <td>-2.870000e+00</td>\n",
       "      <td>3.170000e+00</td>\n",
       "      <td>-2.220000e+00</td>\n",
       "    </tr>\n",
       "    <tr>\n",
       "      <th>50%</th>\n",
       "      <td>9.722677e+12</td>\n",
       "      <td>2.700000e-01</td>\n",
       "      <td>7.930000e+00</td>\n",
       "      <td>0.000000e+00</td>\n",
       "    </tr>\n",
       "    <tr>\n",
       "      <th>75%</th>\n",
       "      <td>4.996560e+13</td>\n",
       "      <td>4.440000e+00</td>\n",
       "      <td>1.156000e+01</td>\n",
       "      <td>2.720000e+00</td>\n",
       "    </tr>\n",
       "    <tr>\n",
       "      <th>max</th>\n",
       "      <td>2.093974e+14</td>\n",
       "      <td>1.995000e+01</td>\n",
       "      <td>2.004000e+01</td>\n",
       "      <td>1.961000e+01</td>\n",
       "    </tr>\n",
       "  </tbody>\n",
       "</table>\n",
       "</div>"
      ],
      "text/plain": [
       "          timestamp             x             y             z\n",
       "count  1.098208e+06  1.098208e+06  1.098208e+06  1.098208e+06\n",
       "mean   3.340895e+13  6.628650e-01  7.255622e+00  4.110796e-01\n",
       "std    4.944962e+13  6.849046e+00  6.746217e+00  4.754122e+00\n",
       "min    0.000000e+00 -1.961000e+01 -1.961000e+01 -1.980000e+01\n",
       "25%    2.019110e+12 -2.870000e+00  3.170000e+00 -2.220000e+00\n",
       "50%    9.722677e+12  2.700000e-01  7.930000e+00  0.000000e+00\n",
       "75%    4.996560e+13  4.440000e+00  1.156000e+01  2.720000e+00\n",
       "max    2.093974e+14  1.995000e+01  2.004000e+01  1.961000e+01"
      ]
     },
     "execution_count": 4,
     "metadata": {},
     "output_type": "execute_result"
    }
   ],
   "source": [
    "df.describe()"
   ]
  },
  {
   "cell_type": "code",
   "execution_count": 5,
   "metadata": {},
   "outputs": [
    {
     "name": "stderr",
     "output_type": "stream",
     "text": [
      "/tmp/ipykernel_28750/3886283452.py:1: FutureWarning: Indexing with multiple keys (implicitly converted to a tuple of keys) will be deprecated, use a list instead.\n",
      "  df.groupby(\"atividade\")[\"x\", \"y\", \"z\"].mean()\n"
     ]
    },
    {
     "data": {
      "text/html": [
       "<div>\n",
       "<style scoped>\n",
       "    .dataframe tbody tr th:only-of-type {\n",
       "        vertical-align: middle;\n",
       "    }\n",
       "\n",
       "    .dataframe tbody tr th {\n",
       "        vertical-align: top;\n",
       "    }\n",
       "\n",
       "    .dataframe thead th {\n",
       "        text-align: right;\n",
       "    }\n",
       "</style>\n",
       "<table border=\"1\" class=\"dataframe\">\n",
       "  <thead>\n",
       "    <tr style=\"text-align: right;\">\n",
       "      <th></th>\n",
       "      <th>x</th>\n",
       "      <th>y</th>\n",
       "      <th>z</th>\n",
       "    </tr>\n",
       "    <tr>\n",
       "      <th>atividade</th>\n",
       "      <th></th>\n",
       "      <th></th>\n",
       "      <th></th>\n",
       "    </tr>\n",
       "  </thead>\n",
       "  <tbody>\n",
       "    <tr>\n",
       "      <th>Downstairs</th>\n",
       "      <td>0.471718</td>\n",
       "      <td>8.600230</td>\n",
       "      <td>0.684080</td>\n",
       "    </tr>\n",
       "    <tr>\n",
       "      <th>Jogging</th>\n",
       "      <td>-0.201963</td>\n",
       "      <td>5.461080</td>\n",
       "      <td>-0.124295</td>\n",
       "    </tr>\n",
       "    <tr>\n",
       "      <th>Sitting</th>\n",
       "      <td>1.856270</td>\n",
       "      <td>1.853374</td>\n",
       "      <td>6.559716</td>\n",
       "    </tr>\n",
       "    <tr>\n",
       "      <th>Standing</th>\n",
       "      <td>-1.178258</td>\n",
       "      <td>8.987236</td>\n",
       "      <td>0.580193</td>\n",
       "    </tr>\n",
       "    <tr>\n",
       "      <th>Upstairs</th>\n",
       "      <td>0.381334</td>\n",
       "      <td>8.111545</td>\n",
       "      <td>0.323542</td>\n",
       "    </tr>\n",
       "    <tr>\n",
       "      <th>Walking</th>\n",
       "      <td>1.528285</td>\n",
       "      <td>8.702038</td>\n",
       "      <td>-0.084196</td>\n",
       "    </tr>\n",
       "  </tbody>\n",
       "</table>\n",
       "</div>"
      ],
      "text/plain": [
       "                   x         y         z\n",
       "atividade                               \n",
       "Downstairs  0.471718  8.600230  0.684080\n",
       "Jogging    -0.201963  5.461080 -0.124295\n",
       "Sitting     1.856270  1.853374  6.559716\n",
       "Standing   -1.178258  8.987236  0.580193\n",
       "Upstairs    0.381334  8.111545  0.323542\n",
       "Walking     1.528285  8.702038 -0.084196"
      ]
     },
     "execution_count": 5,
     "metadata": {},
     "output_type": "execute_result"
    }
   ],
   "source": [
    "df.groupby(\"atividade\")[\"x\", \"y\", \"z\"].mean()"
   ]
  },
  {
   "attachments": {},
   "cell_type": "markdown",
   "metadata": {},
   "source": [
    "Existem pouquíssimos registros com valores nulos. Por causa disso, foi decidido removê-los."
   ]
  },
  {
   "cell_type": "code",
   "execution_count": 6,
   "metadata": {},
   "outputs": [
    {
     "data": {
      "text/plain": [
       "individuo    0\n",
       "atividade    1\n",
       "timestamp    1\n",
       "x            1\n",
       "y            1\n",
       "z            1\n",
       "dtype: int64"
      ]
     },
     "execution_count": 6,
     "metadata": {},
     "output_type": "execute_result"
    }
   ],
   "source": [
    "df.isna().sum()"
   ]
  },
  {
   "attachments": {},
   "cell_type": "markdown",
   "metadata": {},
   "source": [
    "Valores com zero\n",
    "\n",
    "Ao analisar empiracamente o dataset, foram percebidos diversos registros com todos os campos numéricos zerados.\n",
    "\n",
    "Inicialmente, admitiu-se a possibilidade de serem registros que indicavam atividade estacionária.\n",
    "\n",
    "Porém, após analisar os tipos de classes presentes, foi concluído que esses registros zerados representavam ruído e são uma pequena parcela do dataset.\n",
    "\n",
    "Por conta dessas observações, foi decidido remover os registros com esse perfil."
   ]
  },
  {
   "cell_type": "code",
   "execution_count": 14,
   "metadata": {},
   "outputs": [
    {
     "name": "stdout",
     "output_type": "stream",
     "text": [
      "total_records: 1098208\n",
      "zeroed_records: 12841\n"
     ]
    }
   ],
   "source": [
    "print(\"total_records:\", len(df))\n",
    "print(\"zeroed_records:\", len(df.loc[(df[\"timestamp\"] == 0) & (df[\"x\"] == 0) & (df[\"y\"] == 0) & (df[\"z\"] == 0)])) "
   ]
  },
  {
   "attachments": {},
   "cell_type": "markdown",
   "metadata": {},
   "source": [
    "# Transformações e tratamento dos dados"
   ]
  },
  {
   "cell_type": "code",
   "execution_count": 8,
   "metadata": {},
   "outputs": [
    {
     "data": {
      "text/plain": [
       "individuo    0\n",
       "atividade    0\n",
       "timestamp    0\n",
       "x            0\n",
       "y            0\n",
       "z            0\n",
       "dtype: int64"
      ]
     },
     "execution_count": 8,
     "metadata": {},
     "output_type": "execute_result"
    }
   ],
   "source": [
    "df = df.dropna()\n",
    "df.isna().sum()"
   ]
  }
 ],
 "metadata": {
  "kernelspec": {
   "display_name": "Python 3",
   "language": "python",
   "name": "python3"
  },
  "language_info": {
   "codemirror_mode": {
    "name": "ipython",
    "version": 3
   },
   "file_extension": ".py",
   "mimetype": "text/x-python",
   "name": "python",
   "nbconvert_exporter": "python",
   "pygments_lexer": "ipython3",
   "version": "3.10.6"
  },
  "orig_nbformat": 4
 },
 "nbformat": 4,
 "nbformat_minor": 2
}
